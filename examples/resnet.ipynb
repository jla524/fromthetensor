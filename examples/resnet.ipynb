{
 "cells": [
  {
   "cell_type": "code",
   "execution_count": 9,
   "metadata": {},
   "outputs": [],
   "source": [
    "import random\n",
    "import numpy as np\n",
    "from PIL import Image\n",
    "import torch\n",
    "from torch import nn\n",
    "from datasets import load_dataset\n",
    "from helpers import get_device, train, evaluate"
   ]
  },
  {
   "cell_type": "code",
   "execution_count": 10,
   "metadata": {},
   "outputs": [],
   "source": [
    "torch.manual_seed(0)\n",
    "device = get_device()"
   ]
  },
  {
   "cell_type": "code",
   "execution_count": 11,
   "metadata": {},
   "outputs": [],
   "source": [
    "def preprocess(x, eps=1e-7):\n",
    "    mean = np.array([0.4914, 0.4822, 0.4465]).reshape(1, 1, 1, -1)\n",
    "    std = np.array([0.2023, 0.1994, 0.2010]).reshape(1, 1, 1, -1)\n",
    "    x = x.astype(np.float32)\n",
    "    x = (x - mean) / (std + eps)\n",
    "    return x\n",
    "\n",
    "\n",
    "def random_crop(image, crop_size=30):\n",
    "    h, w, _ = image.shape\n",
    "    x = random.randint(0, w - crop_size)\n",
    "    y = random.randint(0, h - crop_size)\n",
    "    return image[x:x+crop_size, y:y+crop_size, :]\n",
    "\n",
    "\n",
    "def random_flip(image, flip_prob=0.5):\n",
    "    if random.random() < flip_prob:\n",
    "        image = np.fliplr(image)\n",
    "    return image\n",
    "\n",
    "\n",
    "def transform(x):\n",
    "    x = np.array([random_crop(y) for y in x]).transpose(0, 3, 1, 2)\n",
    "    x = ((Image.fromarray(z).resize((224, 224)) for z in y) for y in x)\n",
    "    x = np.stack([random_flip(np.stack([np.asarray(z) for z in y], axis=0)) for y in x], axis=0)\n",
    "    return x\n",
    "\n",
    "\n",
    "def target_transform(x):\n",
    "    x = x.transpose(0, 3, 1, 2)\n",
    "    x = ((Image.fromarray(z).resize((224, 224)) for z in y) for y in x)\n",
    "    x = np.stack([np.stack([np.asarray(z) for z in y], axis=0) for y in x], axis=0)\n",
    "    return x"
   ]
  },
  {
   "cell_type": "code",
   "execution_count": 12,
   "metadata": {},
   "outputs": [],
   "source": [
    "dataset = load_dataset(\"cifar10\")\n",
    "\n",
    "X_train = preprocess(np.array([np.array(image) for image in dataset[\"train\"][\"img\"]]))\n",
    "Y_train = np.array(dataset[\"train\"][\"label\"], dtype=np.int32)\n",
    "\n",
    "X_test = preprocess(np.array([np.array(image) for image in dataset[\"test\"][\"img\"]]))\n",
    "Y_test = np.array(dataset[\"test\"][\"label\"], dtype=np.int32)"
   ]
  },
  {
   "cell_type": "code",
   "execution_count": 13,
   "metadata": {},
   "outputs": [],
   "source": [
    "class BasicBlock(nn.Module):\n",
    "    def __init__(self, inplanes, planes, stride=1, downsample=None):\n",
    "        super().__init__()\n",
    "        self.conv1 = nn.Conv2d(inplanes, planes, 3, stride=stride, padding=1, bias=False)\n",
    "        self.bn1 = nn.BatchNorm2d(planes)\n",
    "        self.conv2 = nn.Conv2d(planes, planes, 3, stride=1, padding=1, bias=False)\n",
    "        self.bn2 = nn.BatchNorm2d(planes)\n",
    "        self.downsample = downsample\n",
    "\n",
    "    def __call__(self, x):\n",
    "        out = self.bn1(self.conv1(x)).relu()\n",
    "        out = self.bn2(self.conv2(out))\n",
    "        if self.downsample is not None:\n",
    "            x = self.downsample(x)\n",
    "        out = (out + x).relu()\n",
    "        return out"
   ]
  },
  {
   "cell_type": "code",
   "execution_count": 14,
   "metadata": {},
   "outputs": [],
   "source": [
    "class ResNet(nn.Module):\n",
    "    def __init__(self):\n",
    "        super().__init__()\n",
    "        self.inplanes = 64\n",
    "        self.conv1 = nn.Conv2d(3, 64, 7, stride=2, padding=3, bias=False)\n",
    "        self.bn1 = nn.BatchNorm2d(64)\n",
    "        self.maxpool = nn.MaxPool2d(3, stride=2, padding=1)\n",
    "        self.layer1 = self._make_layer(64, 3, stride=1)\n",
    "        self.layer2 = self._make_layer(128, 4, stride=2)\n",
    "        self.layer3 = self._make_layer(256, 6, stride=2)\n",
    "        self.layer4 = self._make_layer(512, 3, stride=2)\n",
    "        self.avgpool = nn.AvgPool2d(7, stride=1)\n",
    "        self.fc = nn.Linear(512, 10)\n",
    "\n",
    "    def _make_layer(self, planes, blocks, stride=1):\n",
    "        downsample = None\n",
    "        if stride != 1 or self.inplanes != planes:\n",
    "            downsample = nn.Sequential(\n",
    "                nn.Conv2d(self.inplanes, planes, 1, stride=stride, bias=False),\n",
    "                nn.BatchNorm2d(planes),\n",
    "            )\n",
    "        layers = [BasicBlock(self.inplanes, planes, stride, downsample)]\n",
    "        self.inplanes = planes\n",
    "        for _ in range(1, blocks):\n",
    "            layers.append(BasicBlock(self.inplanes, planes))\n",
    "        return nn.Sequential(*layers)\n",
    "\n",
    "    def __call__(self, x):\n",
    "        x = self.bn1(self.conv1(x)).relu()\n",
    "        x = self.maxpool(x)\n",
    "        x = self.layer1(x)\n",
    "        x = self.layer2(x)\n",
    "        x = self.layer3(x)\n",
    "        x = self.layer4(x)\n",
    "        x = self.avgpool(x)\n",
    "        x = x.reshape(x.shape[0], -1)\n",
    "        x = self.fc(x)\n",
    "        return x"
   ]
  },
  {
   "cell_type": "code",
   "execution_count": 15,
   "metadata": {},
   "outputs": [],
   "source": [
    "epochs = 10\n",
    "batch_size = 64\n",
    "learning_rate = 0.005\n",
    "momentum = 0.9\n",
    "steps = len(X_train) // batch_size"
   ]
  },
  {
   "cell_type": "code",
   "execution_count": 16,
   "metadata": {},
   "outputs": [
    {
     "name": "stderr",
     "output_type": "stream",
     "text": [
      "loss 1.21 accuracy 0.58: 100%|██████████| 781/781 [08:44<00:00,  1.49it/s]\n",
      "100%|██████████| 79/79 [00:42<00:00,  1.84it/s]\n"
     ]
    },
    {
     "name": "stdout",
     "output_type": "stream",
     "text": [
      "test set accuracy is 0.5589\n"
     ]
    },
    {
     "name": "stderr",
     "output_type": "stream",
     "text": [
      "loss 0.88 accuracy 0.69: 100%|██████████| 781/781 [09:14<00:00,  1.41it/s]\n",
      "100%|██████████| 79/79 [00:48<00:00,  1.63it/s]\n"
     ]
    },
    {
     "name": "stdout",
     "output_type": "stream",
     "text": [
      "test set accuracy is 0.5689\n"
     ]
    },
    {
     "name": "stderr",
     "output_type": "stream",
     "text": [
      "loss 0.77 accuracy 0.73: 100%|██████████| 781/781 [09:18<00:00,  1.40it/s]\n",
      "100%|██████████| 79/79 [00:48<00:00,  1.62it/s]\n"
     ]
    },
    {
     "name": "stdout",
     "output_type": "stream",
     "text": [
      "test set accuracy is 0.6955\n"
     ]
    },
    {
     "name": "stderr",
     "output_type": "stream",
     "text": [
      "loss 0.70 accuracy 0.78: 100%|██████████| 781/781 [09:12<00:00,  1.41it/s]\n",
      "100%|██████████| 79/79 [01:02<00:00,  1.25it/s]\n"
     ]
    },
    {
     "name": "stdout",
     "output_type": "stream",
     "text": [
      "test set accuracy is 0.7501\n"
     ]
    },
    {
     "name": "stderr",
     "output_type": "stream",
     "text": [
      "loss 0.41 accuracy 0.83: 100%|██████████| 781/781 [09:16<00:00,  1.40it/s]\n",
      "100%|██████████| 79/79 [00:52<00:00,  1.51it/s]\n"
     ]
    },
    {
     "name": "stdout",
     "output_type": "stream",
     "text": [
      "test set accuracy is 0.7183\n"
     ]
    },
    {
     "name": "stderr",
     "output_type": "stream",
     "text": [
      "loss 0.47 accuracy 0.84: 100%|██████████| 781/781 [09:11<00:00,  1.42it/s]\n",
      "100%|██████████| 79/79 [00:51<00:00,  1.52it/s]\n"
     ]
    },
    {
     "name": "stdout",
     "output_type": "stream",
     "text": [
      "test set accuracy is 0.756\n"
     ]
    },
    {
     "name": "stderr",
     "output_type": "stream",
     "text": [
      "loss 0.38 accuracy 0.83: 100%|██████████| 781/781 [09:17<00:00,  1.40it/s]\n",
      "100%|██████████| 79/79 [00:50<00:00,  1.57it/s]\n"
     ]
    },
    {
     "name": "stdout",
     "output_type": "stream",
     "text": [
      "test set accuracy is 0.7712\n"
     ]
    },
    {
     "name": "stderr",
     "output_type": "stream",
     "text": [
      "loss 0.64 accuracy 0.77: 100%|██████████| 781/781 [09:09<00:00,  1.42it/s]\n",
      "100%|██████████| 79/79 [00:51<00:00,  1.55it/s]\n"
     ]
    },
    {
     "name": "stdout",
     "output_type": "stream",
     "text": [
      "test set accuracy is 0.7738\n"
     ]
    },
    {
     "name": "stderr",
     "output_type": "stream",
     "text": [
      "loss 0.48 accuracy 0.84: 100%|██████████| 781/781 [09:16<00:00,  1.40it/s]\n",
      "100%|██████████| 79/79 [00:48<00:00,  1.64it/s]\n"
     ]
    },
    {
     "name": "stdout",
     "output_type": "stream",
     "text": [
      "test set accuracy is 0.7839\n"
     ]
    },
    {
     "name": "stderr",
     "output_type": "stream",
     "text": [
      "loss 0.36 accuracy 0.91: 100%|██████████| 781/781 [09:16<00:00,  1.40it/s]\n",
      "100%|██████████| 79/79 [01:05<00:00,  1.20it/s]"
     ]
    },
    {
     "name": "stdout",
     "output_type": "stream",
     "text": [
      "test set accuracy is 0.8261\n"
     ]
    },
    {
     "name": "stderr",
     "output_type": "stream",
     "text": [
      "\n"
     ]
    }
   ],
   "source": [
    "model = ResNet().to(device)\n",
    "optimizer = torch.optim.SGD(model.parameters(), lr=learning_rate, weight_decay=learning_rate/epochs, momentum=momentum)\n",
    "for _ in range(epochs):\n",
    "    train(model, X_train, Y_train, optimizer, steps, batch_size=batch_size, transform=transform, device=device)\n",
    "    evaluate(model, X_test, Y_test, target_transform=target_transform, device=device)"
   ]
  },
  {
   "cell_type": "code",
   "execution_count": null,
   "metadata": {},
   "outputs": [],
   "source": []
  }
 ],
 "metadata": {
  "kernelspec": {
   "display_name": "fromthetensor (3.12.7)",
   "language": "python",
   "name": "python3"
  },
  "language_info": {
   "codemirror_mode": {
    "name": "ipython",
    "version": 3
   },
   "file_extension": ".py",
   "mimetype": "text/x-python",
   "name": "python",
   "nbconvert_exporter": "python",
   "pygments_lexer": "ipython3",
   "version": "3.12.7"
  }
 },
 "nbformat": 4,
 "nbformat_minor": 4
}
