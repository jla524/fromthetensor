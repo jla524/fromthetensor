{
 "cells": [
  {
   "cell_type": "code",
   "execution_count": 1,
   "metadata": {},
   "outputs": [
    {
     "name": "stdout",
     "output_type": "stream",
     "text": [
      "env: GPU=1\n"
     ]
    }
   ],
   "source": [
    "%set_env GPU=1\n",
    "%set_env KOPT=1"
   ]
  },
  {
   "cell_type": "code",
   "execution_count": 2,
   "metadata": {},
   "outputs": [],
   "source": [
    "import numpy as np\n",
    "from PIL import Image\n",
    "from tinygrad.tensor import Tensor\n",
    "from tinygrad.nn import Conv2d, BatchNorm2d, Linear, optim\n",
    "from tinygrad.state import get_parameters\n",
    "from extra.datasets import fetch_cifar\n",
    "from extra.training import train, evaluate\n",
    "Tensor.manual_seed(1337)"
   ]
  },
  {
   "cell_type": "code",
   "execution_count": 3,
   "metadata": {},
   "outputs": [],
   "source": [
    "class BasicBlock:\n",
    "    def __init__(self, inplanes, planes, stride=1, downsample=None):\n",
    "        self.conv1 = Conv2d(inplanes, planes, 3, stride=stride, padding=1, bias=False)\n",
    "        self.bn1 = BatchNorm2d(planes)\n",
    "        self.conv2 = Conv2d(planes, planes, 3, stride=1, padding=1, bias=False)\n",
    "        self.bn2 = BatchNorm2d(planes)\n",
    "        self.downsample = downsample\n",
    "    \n",
    "    def __call__(self, x):\n",
    "        out = self.bn1(self.conv1(x)).relu()\n",
    "        out = self.bn2(self.conv2(out))\n",
    "        if self.downsample is not None:\n",
    "            x = x.sequential(self.downsample)\n",
    "        out = (out + x).relu()\n",
    "        return out"
   ]
  },
  {
   "cell_type": "code",
   "execution_count": 4,
   "metadata": {},
   "outputs": [],
   "source": [
    "class ResNet:\n",
    "    def __init__(self):\n",
    "        self.inplanes = 64\n",
    "        self.conv1 = Conv2d(3, 64, 7, stride=2, padding=3, bias=False)\n",
    "        self.bn1 = BatchNorm2d(64)\n",
    "        self.layer1 = self._make_layer(64, 3, stride=1)\n",
    "        self.layer2 = self._make_layer(128, 4, stride=2)\n",
    "        self.layer3 = self._make_layer(256, 6, stride=2)\n",
    "        self.layer4 = self._make_layer(512, 3, stride=2)\n",
    "        self.fc = Linear(512, 10)\n",
    "    \n",
    "    def _make_layer(self, planes, blocks, stride=1):\n",
    "        downsample = []\n",
    "        if stride != 1 or self.inplanes != planes:\n",
    "            downsample = [\n",
    "                Conv2d(self.inplanes, planes, 1, stride=stride, bias=False),\n",
    "                BatchNorm2d(planes),\n",
    "            ]\n",
    "        layers = [BasicBlock(self.inplanes, planes, stride, downsample)]\n",
    "        self.inplanes = planes\n",
    "        for _ in range(1, blocks):\n",
    "            layers.append(BasicBlock(self.inplanes, planes))\n",
    "        return layers\n",
    "    \n",
    "    def __call__(self, x):\n",
    "        x = self.bn1(self.conv1(x)).relu()\n",
    "        x = x.pad2d((1, 1, 1, 1))\n",
    "        x = x.max_pool2d((3, 3), stride=2)\n",
    "        x = x.sequential(self.layer1)\n",
    "        x = x.sequential(self.layer2)\n",
    "        x = x.sequential(self.layer3)\n",
    "        x = x.sequential(self.layer4)\n",
    "        x = x.avg_pool2d((7, 7), stride=1)\n",
    "        x = x.reshape(x.shape[0], -1)\n",
    "        x = self.fc(x).log_softmax()\n",
    "        return x"
   ]
  },
  {
   "cell_type": "code",
   "execution_count": 5,
   "metadata": {},
   "outputs": [],
   "source": [
    "def transform(x):\n",
    "    x = [[Image.fromarray(z).resize((224, 224)) for z in y] for y in x]\n",
    "    x = np.stack([np.stack([np.asarray(z) for z in y], axis=0) for y in x], axis=0)\n",
    "    x = x.reshape(-1, 3, 224, 224)\n",
    "    return x"
   ]
  },
  {
   "cell_type": "code",
   "execution_count": 6,
   "metadata": {},
   "outputs": [
    {
     "name": "stderr",
     "output_type": "stream",
     "text": [
      "loss 3.24 accuracy 0.06:   0%|          | 20/50000 [00:25<13:45:02,  1.01it/s]"
     ]
    }
   ],
   "source": [
    "(X_train, Y_train), (X_test, Y_test) = fetch_cifar(), fetch_cifar(train=False)\n",
    "model = ResNet()\n",
    "optimizer = optim.SGD(get_parameters(model), lr=0.005, weight_decay=0.0005, momentum=0.9)\n",
    "train(model, X_train, Y_train, optimizer, 50000, BS=16, transform=transform)\n",
    "evaluate(model, X_test, Y_test, transform=transform)"
   ]
  },
  {
   "cell_type": "code",
   "execution_count": null,
   "metadata": {},
   "outputs": [],
   "source": []
  }
 ],
 "metadata": {
  "kernelspec": {
   "display_name": "Python 3 (ipykernel)",
   "language": "python",
   "name": "python3"
  },
  "language_info": {
   "codemirror_mode": {
    "name": "ipython",
    "version": 3
   },
   "file_extension": ".py",
   "mimetype": "text/x-python",
   "name": "python",
   "nbconvert_exporter": "python",
   "pygments_lexer": "ipython3",
   "version": "3.11.3"
  }
 },
 "nbformat": 4,
 "nbformat_minor": 4
}
