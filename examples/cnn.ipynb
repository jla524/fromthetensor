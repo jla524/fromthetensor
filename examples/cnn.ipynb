{
 "cells": [
  {
   "cell_type": "code",
   "execution_count": null,
   "metadata": {},
   "outputs": [],
   "source": [
    "import numpy as np\n",
    "import torch\n",
    "from torch import nn, optim\n",
    "from datasets import load_dataset\n",
    "from helpers import get_device, train, evaluate"
   ]
  },
  {
   "cell_type": "code",
   "execution_count": 2,
   "metadata": {},
   "outputs": [],
   "source": [
    "torch.manual_seed(0)\n",
    "np.random.seed(0)\n",
    "device = get_device()"
   ]
  },
  {
   "cell_type": "code",
   "execution_count": 3,
   "metadata": {},
   "outputs": [],
   "source": [
    "dataset = load_dataset(\"mnist\")\n",
    "X_train = np.array([np.array(image) for image in dataset[\"train\"][\"image\"]], dtype=np.float32) / 255.0\n",
    "Y_train = np.array(dataset[\"train\"][\"label\"])\n",
    "X_test = np.array([np.array(image) for image in dataset[\"test\"][\"image\"]], dtype=np.float32) / 255.0\n",
    "Y_test = np.array(dataset[\"test\"][\"label\"])"
   ]
  },
  {
   "cell_type": "code",
   "execution_count": 4,
   "metadata": {},
   "outputs": [],
   "source": [
    "class ConvNet(nn.Module):\n",
    "    def __init__(self):\n",
    "        super().__init__()\n",
    "        self.conv1 = nn.Conv2d(1, 6, 5)\n",
    "        self.pool1 = nn.MaxPool2d(2)\n",
    "        self.conv2 = nn.Conv2d(6, 16, 5)\n",
    "        self.pool2 = nn.MaxPool2d(2)\n",
    "        self.linear = nn.Linear(256, 10)\n",
    "\n",
    "    def __call__(self, x):\n",
    "        x = torch.unsqueeze(x, 1)\n",
    "        x = self.conv1(x).relu()\n",
    "        x = self.pool1(x)\n",
    "        x = self.conv2(x).relu()\n",
    "        x = self.pool2(x)\n",
    "        x = x.view(-1, 256)\n",
    "        x = self.linear(x)\n",
    "        return x"
   ]
  },
  {
   "cell_type": "code",
   "execution_count": 5,
   "metadata": {},
   "outputs": [
    {
     "data": {
      "text/plain": [
       "tensor([[ 0.0561,  0.1196, -0.0440, -0.1433,  0.0334,  0.0502,  0.0142, -0.1147,\n",
       "         -0.1023, -0.0106]], device='mps:0', grad_fn=<LinearBackward0>)"
      ]
     },
     "execution_count": 5,
     "metadata": {},
     "output_type": "execute_result"
    }
   ],
   "source": [
    "model = ConvNet().to(device)\n",
    "model(torch.rand(1, 28, 28, device=device))"
   ]
  },
  {
   "cell_type": "code",
   "execution_count": 6,
   "metadata": {},
   "outputs": [],
   "source": [
    "lr = 0.005\n",
    "epochs = 1\n",
    "batch_size = 32"
   ]
  },
  {
   "cell_type": "code",
   "execution_count": 7,
   "metadata": {},
   "outputs": [
    {
     "name": "stderr",
     "output_type": "stream",
     "text": [
      "loss 0.11 accuracy 0.98: 100%|██████████| 1875/1875 [00:11<00:00, 161.65it/s]\n",
      "100%|██████████| 79/79 [00:00<00:00, 524.09it/s]"
     ]
    },
    {
     "name": "stdout",
     "output_type": "stream",
     "text": [
      "test set accuracy is 0.9864\n"
     ]
    },
    {
     "name": "stderr",
     "output_type": "stream",
     "text": [
      "\n"
     ]
    }
   ],
   "source": [
    "optimizer = optim.Adam(model.parameters(), lr=lr)\n",
    "train_steps = len(X_train) // batch_size\n",
    "test_steps = len(X_test) // batch_size\n",
    "\n",
    "for epoch in range(epochs):\n",
    "    train(model, X_train, Y_train, optimizer, train_steps, device=device)\n",
    "\n",
    "evaluate(model, X_test, Y_test, device=device)"
   ]
  },
  {
   "cell_type": "code",
   "execution_count": null,
   "metadata": {},
   "outputs": [],
   "source": []
  }
 ],
 "metadata": {
  "kernelspec": {
   "display_name": ".venv",
   "language": "python",
   "name": "python3"
  },
  "language_info": {
   "codemirror_mode": {
    "name": "ipython",
    "version": 3
   },
   "file_extension": ".py",
   "mimetype": "text/x-python",
   "name": "python",
   "nbconvert_exporter": "python",
   "pygments_lexer": "ipython3",
   "version": "3.12.7"
  }
 },
 "nbformat": 4,
 "nbformat_minor": 4
}
