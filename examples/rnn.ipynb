{
 "cells": [
  {
   "attachments": {},
   "cell_type": "markdown",
   "metadata": {},
   "source": [
    "A rough copy of https://jaketae.github.io/study/pytorch-rnn/"
   ]
  },
  {
   "cell_type": "code",
   "execution_count": 1,
   "metadata": {},
   "outputs": [],
   "source": [
    "import random\n",
    "from tqdm import tqdm\n",
    "import torch\n",
    "from torch import nn, optim\n",
    "from helpers import get_device\n",
    "from data import fetch_names, name_to_array"
   ]
  },
  {
   "cell_type": "code",
   "execution_count": 2,
   "metadata": {},
   "outputs": [],
   "source": [
    "torch.manual_seed(0)\n",
    "random.seed(0)\n",
    "device = get_device()"
   ]
  },
  {
   "cell_type": "code",
   "execution_count": 3,
   "metadata": {},
   "outputs": [],
   "source": [
    "train_set, test_set, char_to_idx, lang_to_label = fetch_names(torch.tensor, torch.tensor)\n",
    "label_to_lang = {label: lang for lang, label in lang_to_label.items()}\n",
    "num_letters = len(char_to_idx)\n",
    "num_langs = len(lang_to_label)"
   ]
  },
  {
   "cell_type": "code",
   "execution_count": 4,
   "metadata": {},
   "outputs": [],
   "source": [
    "class RNN(nn.Module):\n",
    "    def __init__(self, input_size: int, hidden_size: int, output_size: int):\n",
    "        super().__init__()\n",
    "        self.hidden_size = hidden_size\n",
    "        self.linear1 = nn.Linear(input_size + hidden_size, hidden_size)\n",
    "        self.linear2 = nn.Linear(input_size + hidden_size, output_size)\n",
    "\n",
    "    def __call__(self, x, h):\n",
    "        x = torch.concat([x, h], axis=1)\n",
    "        hidden = torch.sigmoid(self.linear1(x))\n",
    "        output = self.linear2(x)\n",
    "        return output, hidden\n",
    "\n",
    "    def init_hidden(self):\n",
    "        return torch.zeros((1, self.hidden_size))"
   ]
  },
  {
   "cell_type": "code",
   "execution_count": 5,
   "metadata": {},
   "outputs": [],
   "source": [
    "learning_rate = 0.002\n",
    "model = RNN(input_size=num_letters, hidden_size=256, output_size=num_langs)\n",
    "criterion = nn.CrossEntropyLoss()"
   ]
  },
  {
   "cell_type": "code",
   "execution_count": 6,
   "metadata": {},
   "outputs": [
    {
     "name": "stderr",
     "output_type": "stream",
     "text": [
      "loss 0.03: 100%|██████████| 18063/18063 [00:43<00:00, 415.42it/s] \n",
      "loss 0.08: 100%|██████████| 18063/18063 [00:42<00:00, 424.47it/s] \n"
     ]
    }
   ],
   "source": [
    "for _ in range(2):\n",
    "    random.shuffle(train_set)\n",
    "    optimizer = optim.Adam(model.parameters(), lr=learning_rate)\n",
    "    for i, (name, label) in (t := tqdm(enumerate(train_set), total=len(train_set))):\n",
    "        hidden_state = model.init_hidden()\n",
    "        for char in name:\n",
    "            output, hidden_state = model(char, hidden_state)\n",
    "        loss = criterion(output, label)\n",
    "        optimizer.zero_grad()\n",
    "        loss.backward()\n",
    "        nn.utils.clip_grad_norm_(model.parameters(), 1)\n",
    "        optimizer.step()\n",
    "        t.set_description(f\"loss {loss.detach().numpy().item():.2f}\")"
   ]
  },
  {
   "cell_type": "code",
   "execution_count": 7,
   "metadata": {},
   "outputs": [
    {
     "name": "stdout",
     "output_type": "stream",
     "text": [
      "test set accuracy is 0.7424\n"
     ]
    }
   ],
   "source": [
    "num_correct = 0\n",
    "for name, label in test_set:\n",
    "    hidden_state = model.init_hidden()\n",
    "    for char in name:\n",
    "        output, hidden_state = model(char, hidden_state)\n",
    "    pred = output.argmax(-1).numpy()\n",
    "    num_correct += (pred == label).sum()\n",
    "print(f\"test set accuracy is {num_correct/len(test_set):.4f}\")"
   ]
  },
  {
   "cell_type": "code",
   "execution_count": 8,
   "metadata": {},
   "outputs": [],
   "source": [
    "def predict(name: str) -> str:\n",
    "    tensor_name = torch.tensor(name_to_array(name, char_to_idx))\n",
    "    with torch.no_grad():\n",
    "        hidden_state = model.init_hidden()\n",
    "        for char in tensor_name:\n",
    "            output, hidden_state = model(char, hidden_state)\n",
    "        pred = output.numpy().argmax()\n",
    "    return label_to_lang[pred]"
   ]
  },
  {
   "cell_type": "code",
   "execution_count": 9,
   "metadata": {},
   "outputs": [
    {
     "name": "stdout",
     "output_type": "stream",
     "text": [
      "Jake: Russian\n",
      "Qin: Chinese\n",
      "Fernando: Italian\n",
      "Demirkan: Russian\n"
     ]
    }
   ],
   "source": [
    "for name in (\"Jake\", \"Qin\", \"Fernando\", \"Demirkan\"):\n",
    "    print(f\"{name}: {predict(name)}\")"
   ]
  },
  {
   "cell_type": "code",
   "execution_count": null,
   "metadata": {},
   "outputs": [],
   "source": []
  }
 ],
 "metadata": {
  "kernelspec": {
   "display_name": "fromthetensor (3.12.7)",
   "language": "python",
   "name": "python3"
  },
  "language_info": {
   "codemirror_mode": {
    "name": "ipython",
    "version": 3
   },
   "file_extension": ".py",
   "mimetype": "text/x-python",
   "name": "python",
   "nbconvert_exporter": "python",
   "pygments_lexer": "ipython3",
   "version": "3.12.7"
  }
 },
 "nbformat": 4,
 "nbformat_minor": 4
}
