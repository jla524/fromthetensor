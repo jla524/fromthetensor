{
 "cells": [
  {
   "cell_type": "markdown",
   "id": "d815ec65",
   "metadata": {},
   "source": [
    "A rough copy of https://blog.paperspace.com/writing-lenet5-from-scratch-in-python/"
   ]
  },
  {
   "cell_type": "code",
   "execution_count": 1,
   "id": "00aaf4d8",
   "metadata": {},
   "outputs": [],
   "source": [
    "import numpy as np\n",
    "import torch\n",
    "from torch import nn, optim\n",
    "from datasets import load_dataset\n",
    "from helpers import get_device, train, evaluate"
   ]
  },
  {
   "cell_type": "code",
   "execution_count": 2,
   "id": "57ab2e31",
   "metadata": {},
   "outputs": [],
   "source": [
    "torch.manual_seed(0)\n",
    "np.random.seed(0)\n",
    "device = get_device()"
   ]
  },
  {
   "cell_type": "code",
   "execution_count": 3,
   "id": "97a494c1",
   "metadata": {},
   "outputs": [
    {
     "name": "stderr",
     "output_type": "stream",
     "text": [
      "Using the latest cached version of the dataset since mnist couldn't be found on the Hugging Face Hub\n"
     ]
    },
    {
     "name": "stderr",
     "output_type": "stream",
     "text": [
      "Found the latest cached dataset configuration 'mnist' at /Users/jacky/.cache/huggingface/datasets/mnist/mnist/0.0.0/77f3279092a1c1579b2250db8eafed0ad422088c (last modified on Wed Jan  1 12:48:49 2025).\n"
     ]
    }
   ],
   "source": [
    "dataset = load_dataset(\"mnist\")\n",
    "X_train = np.array([np.array(image) for image in dataset[\"train\"][\"image\"]], dtype=np.float32) / 255.0\n",
    "Y_train = np.array(dataset[\"train\"][\"label\"])\n",
    "X_test = np.array([np.array(image) for image in dataset[\"test\"][\"image\"]], dtype=np.float32) / 255.0\n",
    "Y_test = np.array(dataset[\"test\"][\"label\"])"
   ]
  },
  {
   "cell_type": "code",
   "execution_count": 4,
   "id": "fa0bff9d",
   "metadata": {},
   "outputs": [],
   "source": [
    "class LeNet(nn.Module):\n",
    "    def __init__(self):\n",
    "        super().__init__()\n",
    "        self.conv1 = nn.Conv2d(1, 6, 5)\n",
    "        self.bn1 = nn.BatchNorm2d(6)\n",
    "        self.max_pool1 = nn.MaxPool2d(2)\n",
    "        self.conv2 = nn.Conv2d(6, 16, 5)\n",
    "        self.bn2 = nn.BatchNorm2d(16)\n",
    "        self.max_pool2 = nn.MaxPool2d(2)\n",
    "        self.l1 = nn.Linear(256, 128)\n",
    "        self.l2 = nn.Linear(128, 64)\n",
    "        self.l3 = nn.Linear(64, 10)\n",
    "\n",
    "    def __call__(self, x):\n",
    "        x = torch.unsqueeze(x, 1)\n",
    "        x = self.bn1(self.conv1(x))\n",
    "        x = self.max_pool1(x).relu()\n",
    "        x = self.bn2(self.conv2(x))\n",
    "        x = self.max_pool2(x).relu()\n",
    "        x = x.view(-1, 256)\n",
    "        x = self.l1(x).relu()\n",
    "        x = self.l2(x).relu()\n",
    "        x = self.l3(x)\n",
    "        return x"
   ]
  },
  {
   "cell_type": "code",
   "execution_count": 5,
   "id": "b035ef72",
   "metadata": {},
   "outputs": [
    {
     "data": {
      "text/plain": [
       "tensor([[ 0.0708, -0.1283, -0.0492,  0.0211,  0.0976, -0.0847,  0.0503,  0.0386,\n",
       "         -0.0595, -0.1223]], device='mps:0', grad_fn=<LinearBackward0>)"
      ]
     },
     "execution_count": 5,
     "metadata": {},
     "output_type": "execute_result"
    }
   ],
   "source": [
    "model = LeNet().to(device)\n",
    "model(torch.rand(1, 28, 28, device=device))"
   ]
  },
  {
   "cell_type": "code",
   "execution_count": 6,
   "id": "cbc751a7",
   "metadata": {},
   "outputs": [],
   "source": [
    "lr = 0.004\n",
    "epochs = 2\n",
    "batch_size = 32"
   ]
  },
  {
   "cell_type": "code",
   "execution_count": 7,
   "id": "32ed904d",
   "metadata": {},
   "outputs": [
    {
     "name": "stderr",
     "output_type": "stream",
     "text": [
      "loss 0.11 accuracy 0.98: 100%|██████████| 1875/1875 [00:19<00:00, 94.63it/s] \n",
      "loss 0.01 accuracy 0.99: 100%|██████████| 1875/1875 [00:19<00:00, 95.37it/s] \n",
      "100%|██████████| 79/79 [00:00<00:00, 439.65it/s]"
     ]
    },
    {
     "name": "stdout",
     "output_type": "stream",
     "text": [
      "test set accuracy is 0.9902\n"
     ]
    },
    {
     "name": "stderr",
     "output_type": "stream",
     "text": [
      "\n"
     ]
    }
   ],
   "source": [
    "optimizer = optim.Adam(model.parameters(), lr=lr)\n",
    "train_steps = len(X_train) // batch_size\n",
    "test_steps = len(X_test) // batch_size\n",
    "\n",
    "for epoch in range(epochs):\n",
    "    train(model, X_train, Y_train, optimizer, train_steps, device=device)\n",
    "\n",
    "evaluate(model, X_test, Y_test, device=device)"
   ]
  },
  {
   "cell_type": "code",
   "execution_count": null,
   "id": "22392fd5",
   "metadata": {},
   "outputs": [],
   "source": []
  }
 ],
 "metadata": {
  "kernelspec": {
   "display_name": ".venv",
   "language": "python",
   "name": "python3"
  },
  "language_info": {
   "codemirror_mode": {
    "name": "ipython",
    "version": 3
   },
   "file_extension": ".py",
   "mimetype": "text/x-python",
   "name": "python",
   "nbconvert_exporter": "python",
   "pygments_lexer": "ipython3",
   "version": "3.12.7"
  }
 },
 "nbformat": 4,
 "nbformat_minor": 5
}
