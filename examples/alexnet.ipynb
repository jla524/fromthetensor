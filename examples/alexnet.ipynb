{
 "cells": [
  {
   "cell_type": "code",
   "execution_count": 1,
   "metadata": {},
   "outputs": [],
   "source": [
    "from PIL import Image\n",
    "import numpy as np\n",
    "import torch\n",
    "from torch import nn, optim\n",
    "from datasets import load_dataset\n",
    "from helpers import get_device, train, evaluate"
   ]
  },
  {
   "cell_type": "code",
   "execution_count": 2,
   "metadata": {},
   "outputs": [],
   "source": [
    "torch.manual_seed(0)\n",
    "np.random.seed(0)\n",
    "device = get_device()"
   ]
  },
  {
   "cell_type": "code",
   "execution_count": 3,
   "metadata": {},
   "outputs": [],
   "source": [
    "def transform(x):\n",
    "    x = x.reshape(-1, 3, 32, 32).astype(np.float32)\n",
    "    x = ((Image.fromarray(z).resize((224, 224)) for z in y) for y in x)\n",
    "    x = np.stack([np.stack([np.asarray(z) for z in y], axis=0) for y in x], axis=0)\n",
    "    return x"
   ]
  },
  {
   "cell_type": "code",
   "execution_count": 4,
   "metadata": {},
   "outputs": [
    {
     "name": "stderr",
     "output_type": "stream",
     "text": [
      "Using the latest cached version of the dataset since cifar10 couldn't be found on the Hugging Face Hub\n",
      "Found the latest cached dataset configuration 'plain_text' at /Users/jacky/.cache/huggingface/datasets/cifar10/plain_text/0.0.0/0b2714987fa478483af9968de7c934580d0bb9a2 (last modified on Thu Jan  9 21:23:26 2025).\n"
     ]
    }
   ],
   "source": [
    "dataset = load_dataset(\"cifar10\")\n",
    "\n",
    "X_train = (np.array([np.array(image) for image in dataset[\"train\"][\"img\"]]) / 255.0 - 0.5) / 0.25\n",
    "Y_train = np.array(dataset[\"train\"][\"label\"], dtype=np.int32)\n",
    "\n",
    "X_test = (np.array([np.array(image) for image in dataset[\"test\"][\"img\"]]) / 255.0 - 0.5) / 0.25\n",
    "Y_test = np.array(dataset[\"test\"][\"label\"], dtype=np.int32)"
   ]
  },
  {
   "cell_type": "code",
   "execution_count": 5,
   "metadata": {},
   "outputs": [],
   "source": [
    "class AlexNet(nn.Module):\n",
    "    def __init__(self):\n",
    "        super().__init__()\n",
    "        self.conv1 = nn.Conv2d(3, 64, 11, stride=4, padding=2)\n",
    "        self.max_pool1 = nn.MaxPool2d(3, stride=2)\n",
    "        self.conv2 = nn.Conv2d(64, 192, kernel_size=5, padding=2)\n",
    "        self.max_pool2 = nn.MaxPool2d(2, stride=2)\n",
    "        self.conv3 = nn.Conv2d(192, 384, kernel_size=3, padding=1)\n",
    "        self.conv4 = nn.Conv2d(384, 256, kernel_size=3, padding=1)\n",
    "        self.conv5 = nn.Conv2d(256, 256, kernel_size=3, padding=1)\n",
    "        self.max_pool3 = nn.MaxPool2d(3, stride=2)\n",
    "        self.dropout1 = nn.Dropout(0.25)\n",
    "        self.l1 = nn.Linear(9216, 4096)\n",
    "        self.dropout2 = nn.Dropout(0.25)\n",
    "        self.l2 = nn.Linear(4096, 4096)\n",
    "        self.l3 = nn.Linear(4096, 10)\n",
    "\n",
    "    def __call__(self, x):\n",
    "        x = self.conv1(x).relu()\n",
    "        x = self.max_pool1(x)\n",
    "        x = self.conv2(x).relu()\n",
    "        x = self.max_pool2(x)\n",
    "        x = self.conv3(x).relu()\n",
    "        x = self.conv4(x).relu()\n",
    "        x = self.conv5(x).relu()\n",
    "        x = self.max_pool3(x)\n",
    "        x = x.view(-1, 9216)\n",
    "        x = self.l1(self.dropout1(x)).relu()\n",
    "        x = self.l2(self.dropout2(x)).relu()\n",
    "        x = self.l3(x)\n",
    "        return x"
   ]
  },
  {
   "cell_type": "code",
   "execution_count": 6,
   "metadata": {},
   "outputs": [
    {
     "data": {
      "text/plain": [
       "tensor([[-0.0108,  0.0145, -0.0041, -0.0121,  0.0098, -0.0203,  0.0007,  0.0177,\n",
       "          0.0001, -0.0193]], device='mps:0', grad_fn=<LinearBackward0>)"
      ]
     },
     "execution_count": 6,
     "metadata": {},
     "output_type": "execute_result"
    }
   ],
   "source": [
    "model = AlexNet().to(device)\n",
    "model(torch.ones((1, 3, 224, 224), device=device))"
   ]
  },
  {
   "cell_type": "code",
   "execution_count": null,
   "metadata": {},
   "outputs": [],
   "source": [
    "lr = 0.01\n",
    "weight_decay = 0.001\n",
    "momentum = 0.9\n",
    "epochs = 5\n",
    "batch_size = 128"
   ]
  },
  {
   "cell_type": "code",
   "execution_count": null,
   "metadata": {},
   "outputs": [
    {
     "name": "stderr",
     "output_type": "stream",
     "text": [
      "loss 2.09 accuracy 0.22:  71%|███████   | 275/390 [01:32<00:39,  2.92it/s]"
     ]
    }
   ],
   "source": [
    "optimizer = optim.SGD(model.parameters(), lr=lr, weight_decay=weight_decay, momentum=momentum)\n",
    "train_steps = len(X_train) // batch_size\n",
    "test_steps = len(X_test) // batch_size\n",
    "\n",
    "for epoch in range(epochs):\n",
    "    train(model, X_train, Y_train, optimizer, train_steps, device=device, transform=transform)\n",
    "\n",
    "evaluate(model, X_test, Y_test, device=device, transform=transform)"
   ]
  },
  {
   "cell_type": "code",
   "execution_count": null,
   "metadata": {},
   "outputs": [],
   "source": []
  }
 ],
 "metadata": {
  "kernelspec": {
   "display_name": ".venv",
   "language": "python",
   "name": "python3"
  },
  "language_info": {
   "codemirror_mode": {
    "name": "ipython",
    "version": 3
   },
   "file_extension": ".py",
   "mimetype": "text/x-python",
   "name": "python",
   "nbconvert_exporter": "python",
   "pygments_lexer": "ipython3",
   "version": "3.12.7"
  }
 },
 "nbformat": 4,
 "nbformat_minor": 4
}
