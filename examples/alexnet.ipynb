{
 "cells": [
  {
   "cell_type": "code",
   "execution_count": 1,
   "metadata": {},
   "outputs": [],
   "source": [
    "from functools import partial\n",
    "from PIL import Image\n",
    "import numpy as np\n",
    "import jax.numpy as jnp\n",
    "import optax\n",
    "from flax import nnx\n",
    "from datasets import load_dataset"
   ]
  },
  {
   "cell_type": "code",
   "execution_count": 2,
   "metadata": {},
   "outputs": [
    {
     "name": "stderr",
     "output_type": "stream",
     "text": [
      "WARNING:2025-01-12 01:08:26,599:jax._src.xla_bridge:1000: Platform 'METAL' is experimental and not all JAX functionality may be correctly supported!\n"
     ]
    },
    {
     "name": "stdout",
     "output_type": "stream",
     "text": [
      "Metal device set to: Apple M1 Pro\n",
      "\n",
      "systemMemory: 16.00 GB\n",
      "maxCacheSize: 5.33 GB\n",
      "\n"
     ]
    },
    {
     "name": "stderr",
     "output_type": "stream",
     "text": [
      "WARNING: All log messages before absl::InitializeLog() is called are written to STDERR\n",
      "W0000 00:00:1736672906.600346 19924515 mps_client.cc:510] WARNING: JAX Apple GPU support is experimental and not all JAX functionality is correctly supported!\n",
      "I0000 00:00:1736672906.616306 19924515 service.cc:145] XLA service 0x1384de740 initialized for platform METAL (this does not guarantee that XLA will be used). Devices:\n",
      "I0000 00:00:1736672906.616333 19924515 service.cc:153]   StreamExecutor device (0): Metal, <undefined>\n",
      "I0000 00:00:1736672906.618322 19924515 mps_client.cc:406] Using Simple allocator.\n",
      "I0000 00:00:1736672906.618348 19924515 mps_client.cc:384] XLA backend will use up to 11452858368 bytes on device 0 for SimpleAllocator.\n"
     ]
    }
   ],
   "source": [
    "rngs = nnx.Rngs(0)"
   ]
  },
  {
   "cell_type": "code",
   "execution_count": 3,
   "metadata": {},
   "outputs": [],
   "source": [
    "def transform(x):\n",
    "    x = x.reshape(-1, 3, 32, 32)\n",
    "    x = [[Image.fromarray(z).resize((224, 224)) for z in y] for y in x]\n",
    "    x = np.stack([np.stack([np.asarray(z) for z in y], axis=0) for y in x], axis=0)\n",
    "    x = x.reshape(-1, 224, 224, 3)\n",
    "    return x"
   ]
  },
  {
   "cell_type": "code",
   "execution_count": 4,
   "metadata": {},
   "outputs": [],
   "source": [
    "dataset = load_dataset(\"cifar10\")\n",
    "\n",
    "X_train = np.array([np.array(image) for image in dataset[\"train\"][\"img\"]]) / 255.0 - 0.5\n",
    "Y_train = np.array(dataset[\"train\"][\"label\"], dtype=np.int32)\n",
    "\n",
    "X_test = np.array([np.array(image) for image in dataset[\"test\"][\"img\"]]) / 255.0 - 0.5\n",
    "Y_test = np.array(dataset[\"test\"][\"label\"], dtype=np.int32)"
   ]
  },
  {
   "cell_type": "code",
   "execution_count": 5,
   "metadata": {},
   "outputs": [],
   "source": [
    "class AlexNet(nnx.Module):\n",
    "    def __init__(self, *, rngs):\n",
    "        self.conv1 = nnx.Conv(3, 64, kernel_size=(11, 11), strides=(4, 4), padding=(2, 2), rngs=rngs)\n",
    "        self.max_pool1 = partial(nnx.max_pool, window_shape=(3, 3), strides=(2, 2))\n",
    "        self.conv2 = nnx.Conv(64, 192, kernel_size=(5, 5), padding=(2, 2), rngs=rngs)\n",
    "        self.max_pool2 = partial(nnx.max_pool, window_shape=(2, 2), strides=(2, 2))\n",
    "        self.conv3 = nnx.Conv(192, 384, kernel_size=(3, 3), padding=(1, 1), rngs=rngs)\n",
    "        self.conv4 = nnx.Conv(384, 256, kernel_size=(3, 3), padding=(1, 1), rngs=rngs)\n",
    "        self.conv5 = nnx.Conv(256, 256, kernel_size=(3, 3), padding=(1, 1), rngs=rngs)\n",
    "        self.max_pool3 = partial(nnx.max_pool, window_shape=(3, 3), strides=(2, 2))\n",
    "        self.dropout1 = nnx.Dropout(0.5, rngs=rngs)\n",
    "        self.l1 = nnx.Linear(9216, 4096, rngs=rngs)\n",
    "        self.dropout2 = nnx.Dropout(0.5, rngs=rngs)\n",
    "        self.l2 = nnx.Linear(4096, 4096, rngs=rngs)\n",
    "        self.l3 = nnx.Linear(4096, 10, rngs=rngs)\n",
    "\n",
    "    def __call__(self, x):\n",
    "        x = self.max_pool1(nnx.relu(self.conv1(x)))\n",
    "        x = self.max_pool2(nnx.relu(self.conv2(x)))\n",
    "        x = nnx.relu(self.conv3(x))\n",
    "        x = nnx.relu(self.conv4(x))\n",
    "        x = self.max_pool3(nnx.relu(self.conv5(x)))\n",
    "        x = x.reshape(x.shape[0], -1)\n",
    "        x = nnx.relu(self.l1(self.dropout1(x)))\n",
    "        x = nnx.relu(self.l2(self.dropout2(x)))\n",
    "        x = self.l3(x)\n",
    "        return x"
   ]
  },
  {
   "cell_type": "code",
   "execution_count": 6,
   "metadata": {},
   "outputs": [
    {
     "name": "stdout",
     "output_type": "stream",
     "text": [
      "[[-0.05991738 -0.37983412 -0.02047041 -0.03834373  0.20165128 -0.00223303\n",
      "   0.03336534  0.05933402  0.12069449 -0.0052539 ]]\n"
     ]
    }
   ],
   "source": [
    "model = AlexNet(rngs=rngs)\n",
    "y = model(jnp.ones((1, 224, 224, 3)))\n",
    "nnx.display(y)"
   ]
  },
  {
   "cell_type": "code",
   "execution_count": 7,
   "metadata": {},
   "outputs": [],
   "source": [
    "learning_rate = 0.005\n",
    "momentum = 0.9\n",
    "\n",
    "optimizer = nnx.Optimizer(model, optax.sgd(learning_rate, momentum))\n",
    "metrics = nnx.MultiMetric(accuracy=nnx.metrics.Accuracy(), loss=nnx.metrics.Average(\"loss\"))"
   ]
  },
  {
   "cell_type": "code",
   "execution_count": 8,
   "metadata": {},
   "outputs": [],
   "source": [
    "def loss_fn(model, images, labels):\n",
    "    logits = model(images)\n",
    "    loss = optax.softmax_cross_entropy_with_integer_labels(logits=logits, labels=labels).mean()\n",
    "    return loss, logits\n",
    "\n",
    "@nnx.jit\n",
    "def train_step(model, optimizer, metrics, images, labels):\n",
    "    grad_fn = nnx.value_and_grad(loss_fn, has_aux=True)\n",
    "    (loss, logits), grads = grad_fn(model, images, labels)\n",
    "    metrics.update(loss=loss, logits=logits, labels=labels)\n",
    "    optimizer.update(grads)\n",
    "\n",
    "@nnx.jit\n",
    "def eval_step(model, metrics, images, labels):\n",
    "    loss, logits = loss_fn(model, images, labels)\n",
    "    metrics.update(loss=loss, logits=logits, labels=labels)"
   ]
  },
  {
   "cell_type": "code",
   "execution_count": 9,
   "metadata": {},
   "outputs": [
    {
     "name": "stdout",
     "output_type": "stream",
     "text": [
      "[train] epoch: 1, step: 780, loss: 1.8138, accuracy: 33.70\n",
      "[test] epoch: 1, step: 780, loss: 1.5681, accuracy: 41.88\n",
      "[train] epoch: 2, step: 780, loss: 1.4264, accuracy: 48.48\n",
      "[test] epoch: 2, step: 780, loss: 1.3460, accuracy: 51.32\n",
      "[train] epoch: 3, step: 780, loss: 1.2446, accuracy: 55.18\n",
      "[test] epoch: 3, step: 780, loss: 1.2075, accuracy: 56.13\n",
      "[train] epoch: 4, step: 780, loss: 1.1251, accuracy: 59.86\n",
      "[test] epoch: 4, step: 780, loss: 1.2110, accuracy: 56.62\n",
      "[train] epoch: 5, step: 780, loss: 1.0365, accuracy: 63.28\n",
      "[test] epoch: 5, step: 780, loss: 1.1836, accuracy: 57.46\n",
      "[train] epoch: 6, step: 780, loss: 0.9824, accuracy: 65.07\n",
      "[test] epoch: 6, step: 780, loss: 1.0809, accuracy: 61.65\n",
      "[train] epoch: 7, step: 780, loss: 0.9302, accuracy: 67.03\n",
      "[test] epoch: 7, step: 780, loss: 1.0776, accuracy: 61.59\n",
      "[train] epoch: 8, step: 780, loss: 0.8980, accuracy: 68.34\n",
      "[test] epoch: 8, step: 780, loss: 1.0143, accuracy: 64.15\n",
      "[train] epoch: 9, step: 780, loss: 0.8713, accuracy: 69.04\n",
      "[test] epoch: 9, step: 780, loss: 1.0084, accuracy: 64.12\n",
      "[train] epoch: 10, step: 780, loss: 0.8476, accuracy: 70.05\n",
      "[test] epoch: 10, step: 780, loss: 1.0056, accuracy: 64.34\n"
     ]
    }
   ],
   "source": [
    "epochs = 20\n",
    "batch_size = 64\n",
    "eval_every = len(X_train)\n",
    "train_steps = len(X_train) // batch_size\n",
    "test_steps = len(X_test) // batch_size\n",
    "metrics_history = {\"train_loss\": [], \"train_accuracy\": [], \"test_loss\": [], \"test_accuracy\": []}\n",
    "\n",
    "for epoch in range(1, epochs + 1):\n",
    "    for step in range(train_steps):\n",
    "        sample = np.random.randint(0, len(X_train), size=batch_size)\n",
    "        images, labels = transform(X_train[sample]), Y_train[sample]\n",
    "        train_step(model, optimizer, metrics, images, labels)\n",
    "\n",
    "        if step > 0 and (step % eval_every == 0 or step == train_steps - 1):\n",
    "            for metric, value in metrics.compute().items():\n",
    "                metrics_history[f\"train_{metric}\"].append(value)\n",
    "            metrics.reset()\n",
    "\n",
    "            for test_step in range(test_steps):\n",
    "                images = transform(X_test[batch_size*test_step:batch_size*(test_step+1)])\n",
    "                labels = Y_test[batch_size*test_step:batch_size*(test_step+1)]\n",
    "                eval_step(model, metrics, images, labels)\n",
    "\n",
    "            for metric, value in metrics.compute().items():\n",
    "                metrics_history[f\"test_{metric}\"].append(value)\n",
    "            metrics.reset()\n",
    "\n",
    "            print(\n",
    "                f\"[train] epoch: {epoch}, step: {step}, \"\n",
    "                f\"loss: {metrics_history['train_loss'][-1]:.4f}, \"\n",
    "                f\"accuracy: {metrics_history['train_accuracy'][-1] * 100:.2f}\"\n",
    "            )\n",
    "            print(\n",
    "                f\"[test] epoch: {epoch}, step: {step}, \"\n",
    "                f\"loss: {metrics_history['test_loss'][-1]:.4f}, \"\n",
    "                f\"accuracy: {metrics_history['test_accuracy'][-1] * 100:.2f}\"\n",
    "            )\n",
    "    learning_rate *= 0.8\n",
    "    optimizer = nnx.Optimizer(model, optax.sgd(learning_rate, momentum))"
   ]
  },
  {
   "cell_type": "code",
   "execution_count": null,
   "metadata": {},
   "outputs": [],
   "source": []
  }
 ],
 "metadata": {
  "kernelspec": {
   "display_name": "env",
   "language": "python",
   "name": "python3"
  },
  "language_info": {
   "codemirror_mode": {
    "name": "ipython",
    "version": 3
   },
   "file_extension": ".py",
   "mimetype": "text/x-python",
   "name": "python",
   "nbconvert_exporter": "python",
   "pygments_lexer": "ipython3",
   "version": "3.12.7"
  }
 },
 "nbformat": 4,
 "nbformat_minor": 4
}
