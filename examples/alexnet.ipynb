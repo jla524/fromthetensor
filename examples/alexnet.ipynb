{
 "cells": [
  {
   "cell_type": "code",
   "execution_count": 1,
   "metadata": {},
   "outputs": [],
   "source": [
    "from functools import partial\n",
    "from PIL import Image\n",
    "import numpy as np\n",
    "import jax.numpy as jnp\n",
    "import optax\n",
    "from flax import nnx\n",
    "from datasets import load_dataset"
   ]
  },
  {
   "cell_type": "code",
   "execution_count": 2,
   "metadata": {},
   "outputs": [],
   "source": [
    "rngs = nnx.Rngs(0)"
   ]
  },
  {
   "cell_type": "code",
   "execution_count": 3,
   "metadata": {},
   "outputs": [],
   "source": [
    "def transform(x):\n",
    "    x = x.reshape(-1, 3, 32, 32)\n",
    "    x = [[Image.fromarray(z).resize((224, 224)) for z in y] for y in x]\n",
    "    x = np.stack([np.stack([np.asarray(z) for z in y], axis=0) for y in x], axis=0)\n",
    "    x = x.reshape(-1, 224, 224, 3)\n",
    "    return x"
   ]
  },
  {
   "cell_type": "code",
   "execution_count": 4,
   "metadata": {},
   "outputs": [],
   "source": [
    "dataset = load_dataset(\"cifar10\")\n",
    "\n",
    "X_train = (np.array([np.array(image) for image in dataset[\"train\"][\"img\"]]) / 255.0 - 0.5) / 0.25\n",
    "Y_train = np.array(dataset[\"train\"][\"label\"], dtype=np.int32)\n",
    "\n",
    "X_test = (np.array([np.array(image) for image in dataset[\"test\"][\"img\"]]) / 255.0 - 0.5) / 0.25\n",
    "Y_test = np.array(dataset[\"test\"][\"label\"], dtype=np.int32)"
   ]
  },
  {
   "cell_type": "code",
   "execution_count": 5,
   "metadata": {},
   "outputs": [],
   "source": [
    "class AlexNet(nnx.Module):\n",
    "    def __init__(self, *, rngs):\n",
    "        self.conv1 = nnx.Conv(3, 64, kernel_size=(11, 11), strides=(4, 4), padding=(2, 2), rngs=rngs)\n",
    "        self.max_pool1 = partial(nnx.max_pool, window_shape=(3, 3), strides=(2, 2))\n",
    "        self.conv2 = nnx.Conv(64, 192, kernel_size=(5, 5), padding=(2, 2), rngs=rngs)\n",
    "        self.max_pool2 = partial(nnx.max_pool, window_shape=(2, 2), strides=(2, 2))\n",
    "        self.conv3 = nnx.Conv(192, 384, kernel_size=(3, 3), padding=(1, 1), rngs=rngs)\n",
    "        self.conv4 = nnx.Conv(384, 256, kernel_size=(3, 3), padding=(1, 1), rngs=rngs)\n",
    "        self.conv5 = nnx.Conv(256, 256, kernel_size=(3, 3), padding=(1, 1), rngs=rngs)\n",
    "        self.max_pool3 = partial(nnx.max_pool, window_shape=(3, 3), strides=(2, 2))\n",
    "        self.avg_pool = partial(nnx.avg_pool, window_shape=(1, 1), strides=(1, 1))\n",
    "        self.dropout1 = nnx.Dropout(0.5, rngs=rngs)\n",
    "        self.l1 = nnx.Linear(9216, 4096, rngs=rngs)\n",
    "        self.dropout2 = nnx.Dropout(0.5, rngs=rngs)\n",
    "        self.l2 = nnx.Linear(4096, 4096, rngs=rngs)\n",
    "        self.l3 = nnx.Linear(4096, 10, rngs=rngs)\n",
    "\n",
    "    def __call__(self, x):\n",
    "        x = self.max_pool1(nnx.relu(self.conv1(x)))\n",
    "        x = self.max_pool2(nnx.relu(self.conv2(x)))\n",
    "        x = nnx.relu(self.conv3(x))\n",
    "        x = nnx.relu(self.conv4(x))\n",
    "        x = self.max_pool3(nnx.relu(self.conv5(x)))\n",
    "        x = self.avg_pool(x)\n",
    "        x = x.reshape(x.shape[0], -1)\n",
    "        x = nnx.relu(self.l1(self.dropout1(x)))\n",
    "        x = nnx.relu(self.l2(self.dropout2(x)))\n",
    "        x = self.l3(x)\n",
    "        return x"
   ]
  },
  {
   "cell_type": "code",
   "execution_count": 6,
   "metadata": {},
   "outputs": [
    {
     "name": "stdout",
     "output_type": "stream",
     "text": [
      "[[-0.03867229 -0.3541497   0.01953721  0.11465882  0.13008535 -0.06420223\n",
      "   0.05067527  0.01634647  0.17827238  0.13162051]]\n"
     ]
    }
   ],
   "source": [
    "model = AlexNet(rngs=rngs)\n",
    "y = model(jnp.ones((1, 224, 224, 3)))\n",
    "nnx.display(y)"
   ]
  },
  {
   "cell_type": "code",
   "execution_count": 7,
   "metadata": {},
   "outputs": [],
   "source": [
    "learning_rate = 0.005\n",
    "momentum = 0.9\n",
    "\n",
    "optimizer = nnx.Optimizer(model, optax.sgd(learning_rate, momentum))\n",
    "metrics = nnx.MultiMetric(accuracy=nnx.metrics.Accuracy(), loss=nnx.metrics.Average(\"loss\"))"
   ]
  },
  {
   "cell_type": "code",
   "execution_count": 8,
   "metadata": {},
   "outputs": [],
   "source": [
    "def loss_fn(model, images, labels):\n",
    "    logits = model(images)\n",
    "    loss = optax.softmax_cross_entropy_with_integer_labels(logits=logits, labels=labels).mean()\n",
    "    return loss, logits\n",
    "\n",
    "@nnx.jit\n",
    "def train_step(model, optimizer, metrics, images, labels):\n",
    "    grad_fn = nnx.value_and_grad(loss_fn, has_aux=True)\n",
    "    (loss, logits), grads = grad_fn(model, images, labels)\n",
    "    metrics.update(loss=loss, logits=logits, labels=labels)\n",
    "    optimizer.update(grads)\n",
    "\n",
    "@nnx.jit\n",
    "def eval_step(model, metrics, images, labels):\n",
    "    loss, logits = loss_fn(model, images, labels)\n",
    "    metrics.update(loss=loss, logits=logits, labels=labels)"
   ]
  },
  {
   "cell_type": "code",
   "execution_count": 9,
   "metadata": {},
   "outputs": [
    {
     "name": "stdout",
     "output_type": "stream",
     "text": [
      "[train] epoch: 1, step: 389, loss: 1.9145, accuracy: 29.80\n",
      "[test] epoch: 1, step: 389, loss: 1.6382, accuracy: 39.56\n",
      "[train] epoch: 2, step: 389, loss: 1.5316, accuracy: 44.16\n",
      "[test] epoch: 2, step: 389, loss: 1.4437, accuracy: 47.78\n",
      "[train] epoch: 3, step: 389, loss: 1.3592, accuracy: 51.30\n",
      "[test] epoch: 3, step: 389, loss: 1.2978, accuracy: 53.48\n",
      "[train] epoch: 4, step: 389, loss: 1.2669, accuracy: 54.59\n",
      "[test] epoch: 4, step: 389, loss: 1.2917, accuracy: 53.56\n",
      "[train] epoch: 5, step: 389, loss: 1.1853, accuracy: 57.37\n",
      "[test] epoch: 5, step: 389, loss: 1.2657, accuracy: 54.58\n",
      "[train] epoch: 6, step: 389, loss: 1.1194, accuracy: 60.11\n",
      "[test] epoch: 6, step: 389, loss: 1.1502, accuracy: 58.44\n",
      "[train] epoch: 7, step: 389, loss: 1.0787, accuracy: 61.75\n",
      "[test] epoch: 7, step: 389, loss: 1.1314, accuracy: 59.54\n",
      "[train] epoch: 8, step: 389, loss: 1.0294, accuracy: 63.55\n",
      "[test] epoch: 8, step: 389, loss: 1.1108, accuracy: 60.46\n",
      "[train] epoch: 9, step: 389, loss: 1.0123, accuracy: 64.00\n",
      "[test] epoch: 9, step: 389, loss: 1.0875, accuracy: 61.31\n",
      "[train] epoch: 10, step: 389, loss: 0.9788, accuracy: 65.07\n",
      "[test] epoch: 10, step: 389, loss: 1.0663, accuracy: 61.80\n"
     ]
    }
   ],
   "source": [
    "epochs = 10\n",
    "batch_size = 128\n",
    "eval_every = len(X_train)\n",
    "train_steps = len(X_train) // batch_size\n",
    "test_steps = len(X_test) // batch_size\n",
    "metrics_history = {\"train_loss\": [], \"train_accuracy\": [], \"test_loss\": [], \"test_accuracy\": []}\n",
    "\n",
    "for epoch in range(1, epochs + 1):\n",
    "    for step in range(train_steps):\n",
    "        sample = np.random.randint(0, len(X_train), size=batch_size)\n",
    "        images, labels = transform(X_train[sample]), Y_train[sample]\n",
    "        train_step(model, optimizer, metrics, images, labels)\n",
    "\n",
    "        if step > 0 and (step % eval_every == 0 or step == train_steps - 1):\n",
    "            for metric, value in metrics.compute().items():\n",
    "                metrics_history[f\"train_{metric}\"].append(value)\n",
    "            metrics.reset()\n",
    "\n",
    "            for test_step in range(test_steps):\n",
    "                images = transform(X_test[batch_size*test_step:batch_size*(test_step+1)])\n",
    "                labels = Y_test[batch_size*test_step:batch_size*(test_step+1)]\n",
    "                eval_step(model, metrics, images, labels)\n",
    "\n",
    "            for metric, value in metrics.compute().items():\n",
    "                metrics_history[f\"test_{metric}\"].append(value)\n",
    "            metrics.reset()\n",
    "\n",
    "            print(\n",
    "                f\"[train] epoch: {epoch}, step: {step}, \"\n",
    "                f\"loss: {metrics_history['train_loss'][-1]:.4f}, \"\n",
    "                f\"accuracy: {metrics_history['train_accuracy'][-1] * 100:.2f}\"\n",
    "            )\n",
    "            print(\n",
    "                f\"[test] epoch: {epoch}, step: {step}, \"\n",
    "                f\"loss: {metrics_history['test_loss'][-1]:.4f}, \"\n",
    "                f\"accuracy: {metrics_history['test_accuracy'][-1] * 100:.2f}\"\n",
    "            )\n",
    "    learning_rate *= 0.75\n",
    "    optimizer = nnx.Optimizer(model, optax.sgd(learning_rate, momentum))"
   ]
  },
  {
   "cell_type": "code",
   "execution_count": null,
   "metadata": {},
   "outputs": [],
   "source": []
  }
 ],
 "metadata": {
  "kernelspec": {
   "display_name": "base",
   "language": "python",
   "name": "python3"
  },
  "language_info": {
   "codemirror_mode": {
    "name": "ipython",
    "version": 3
   },
   "file_extension": ".py",
   "mimetype": "text/x-python",
   "name": "python",
   "nbconvert_exporter": "python",
   "pygments_lexer": "ipython3",
   "version": "3.11.10"
  }
 },
 "nbformat": 4,
 "nbformat_minor": 4
}
