{
 "cells": [
  {
   "cell_type": "code",
   "execution_count": 1,
   "id": "fb46cc04",
   "metadata": {},
   "outputs": [],
   "source": [
    "from pathlib import Path\n",
    "import numpy as np\n",
    "import pandas as pd"
   ]
  },
  {
   "cell_type": "code",
   "execution_count": 2,
   "id": "53ab4862",
   "metadata": {},
   "outputs": [],
   "source": [
    "data_dir = Path(\".\").resolve(strict=True).parent.parent / \"data\"\n",
    "assert data_dir.is_dir()\n",
    "\n",
    "dataset_path = data_dir / \"london_merged.csv\"\n",
    "assert dataset_path.is_file()\n",
    "\n",
    "features_path = data_dir / \"london_features.csv\""
   ]
  },
  {
   "cell_type": "code",
   "execution_count": 3,
   "id": "f5719803",
   "metadata": {},
   "outputs": [],
   "source": [
    "dataset = pd.read_csv(dataset_path)\n",
    "assert not dataset.empty"
   ]
  },
  {
   "cell_type": "code",
   "execution_count": 4,
   "id": "e21b4dd7",
   "metadata": {},
   "outputs": [],
   "source": [
    "# we want these features: t1, t2, hum, wind_speed, is_holiday,\n",
    "# is_weekend, is_summer, is_winter, is_good_weather, month, hour\n",
    "dataset[\"is_summer\"] = (dataset[\"season\"] == 1).astype(int)\n",
    "dataset[\"is_winter\"] = (dataset[\"season\"] == 3).astype(int)\n",
    "dataset[\"is_good_weather\"] = (dataset[\"weather_code\"] <= 4).astype(int)\n",
    "dataset[\"month\"] = pd.to_datetime(dataset[\"timestamp\"]).dt.month\n",
    "dataset[\"hour\"] = pd.to_datetime(dataset[\"timestamp\"]).dt.hour"
   ]
  },
  {
   "cell_type": "code",
   "execution_count": 5,
   "id": "b0e34acf",
   "metadata": {},
   "outputs": [],
   "source": [
    "# remove unused columns\n",
    "dataset.drop(columns=[\"timestamp\", \"season\", \"weather_code\"], inplace=True)"
   ]
  },
  {
   "cell_type": "code",
   "execution_count": 6,
   "id": "2b84a782",
   "metadata": {},
   "outputs": [],
   "source": [
    "# check to make sure we have all the features and target\n",
    "features = [\n",
    "    \"t1\", \"t2\", \"hum\", \"wind_speed\", \"is_holiday\", \"is_weekend\",\n",
    "    \"is_summer\", \"is_winter\", \"is_good_weather\", \"month\", \"hour\"\n",
    "]\n",
    "target = \"cnt\"\n",
    "assert sorted(dataset.columns.tolist()) == sorted(features + [target])"
   ]
  },
  {
   "cell_type": "code",
   "execution_count": 7,
   "id": "71f59875",
   "metadata": {},
   "outputs": [],
   "source": [
    "# log target\n",
    "dataset[\"cnt\"] = np.log1p(dataset[\"cnt\"])\n",
    "\n",
    "# normalize values to a range of 0-1\n",
    "for column in dataset.columns:\n",
    "    column_mean = dataset[column].mean()\n",
    "    column_std = dataset[column].std() + 1e-8\n",
    "    dataset[column] = (dataset[column] - column_mean) / column_std"
   ]
  },
  {
   "cell_type": "code",
   "execution_count": 8,
   "id": "4944be03",
   "metadata": {},
   "outputs": [
    {
     "data": {
      "text/html": [
       "<div>\n",
       "<style scoped>\n",
       "    .dataframe tbody tr th:only-of-type {\n",
       "        vertical-align: middle;\n",
       "    }\n",
       "\n",
       "    .dataframe tbody tr th {\n",
       "        vertical-align: top;\n",
       "    }\n",
       "\n",
       "    .dataframe thead th {\n",
       "        text-align: right;\n",
       "    }\n",
       "</style>\n",
       "<table border=\"1\" class=\"dataframe\">\n",
       "  <thead>\n",
       "    <tr style=\"text-align: right;\">\n",
       "      <th></th>\n",
       "      <th>cnt</th>\n",
       "      <th>t1</th>\n",
       "      <th>t2</th>\n",
       "      <th>hum</th>\n",
       "      <th>wind_speed</th>\n",
       "      <th>is_holiday</th>\n",
       "      <th>is_weekend</th>\n",
       "      <th>is_summer</th>\n",
       "      <th>is_winter</th>\n",
       "      <th>is_good_weather</th>\n",
       "      <th>month</th>\n",
       "      <th>hour</th>\n",
       "    </tr>\n",
       "  </thead>\n",
       "  <tbody>\n",
       "    <tr>\n",
       "      <th>0</th>\n",
       "      <td>-0.958454</td>\n",
       "      <td>-1.699282</td>\n",
       "      <td>-1.439248</td>\n",
       "      <td>1.444475</td>\n",
       "      <td>-1.255681</td>\n",
       "      <td>-0.150157</td>\n",
       "      <td>1.582302</td>\n",
       "      <td>-0.580295</td>\n",
       "      <td>1.738256</td>\n",
       "      <td>0.381739</td>\n",
       "      <td>-1.597286</td>\n",
       "      <td>-1.664755</td>\n",
       "    </tr>\n",
       "    <tr>\n",
       "      <th>1</th>\n",
       "      <td>-1.172838</td>\n",
       "      <td>-1.699282</td>\n",
       "      <td>-1.363664</td>\n",
       "      <td>1.444475</td>\n",
       "      <td>-1.382350</td>\n",
       "      <td>-0.150157</td>\n",
       "      <td>1.582302</td>\n",
       "      <td>-0.580295</td>\n",
       "      <td>1.738256</td>\n",
       "      <td>0.381739</td>\n",
       "      <td>-1.597286</td>\n",
       "      <td>-1.520160</td>\n",
       "    </tr>\n",
       "    <tr>\n",
       "      <th>2</th>\n",
       "      <td>-1.195600</td>\n",
       "      <td>-1.789020</td>\n",
       "      <td>-1.363664</td>\n",
       "      <td>1.689005</td>\n",
       "      <td>-2.015697</td>\n",
       "      <td>-0.150157</td>\n",
       "      <td>1.582302</td>\n",
       "      <td>-0.580295</td>\n",
       "      <td>1.738256</td>\n",
       "      <td>0.381739</td>\n",
       "      <td>-1.597286</td>\n",
       "      <td>-1.375566</td>\n",
       "    </tr>\n",
       "    <tr>\n",
       "      <th>3</th>\n",
       "      <td>-1.674876</td>\n",
       "      <td>-1.878757</td>\n",
       "      <td>-1.439248</td>\n",
       "      <td>1.933535</td>\n",
       "      <td>-2.015697</td>\n",
       "      <td>-0.150157</td>\n",
       "      <td>1.582302</td>\n",
       "      <td>-0.580295</td>\n",
       "      <td>1.738256</td>\n",
       "      <td>0.381739</td>\n",
       "      <td>-1.597286</td>\n",
       "      <td>-1.230971</td>\n",
       "    </tr>\n",
       "    <tr>\n",
       "      <th>4</th>\n",
       "      <td>-2.001707</td>\n",
       "      <td>-1.878757</td>\n",
       "      <td>-1.741585</td>\n",
       "      <td>1.444475</td>\n",
       "      <td>-1.192346</td>\n",
       "      <td>-0.150157</td>\n",
       "      <td>1.582302</td>\n",
       "      <td>-0.580295</td>\n",
       "      <td>1.738256</td>\n",
       "      <td>0.381739</td>\n",
       "      <td>-1.597286</td>\n",
       "      <td>-1.086377</td>\n",
       "    </tr>\n",
       "  </tbody>\n",
       "</table>\n",
       "</div>"
      ],
      "text/plain": [
       "        cnt        t1        t2       hum  wind_speed  is_holiday  is_weekend  \\\n",
       "0 -0.958454 -1.699282 -1.439248  1.444475   -1.255681   -0.150157    1.582302   \n",
       "1 -1.172838 -1.699282 -1.363664  1.444475   -1.382350   -0.150157    1.582302   \n",
       "2 -1.195600 -1.789020 -1.363664  1.689005   -2.015697   -0.150157    1.582302   \n",
       "3 -1.674876 -1.878757 -1.439248  1.933535   -2.015697   -0.150157    1.582302   \n",
       "4 -2.001707 -1.878757 -1.741585  1.444475   -1.192346   -0.150157    1.582302   \n",
       "\n",
       "   is_summer  is_winter  is_good_weather     month      hour  \n",
       "0  -0.580295   1.738256         0.381739 -1.597286 -1.664755  \n",
       "1  -0.580295   1.738256         0.381739 -1.597286 -1.520160  \n",
       "2  -0.580295   1.738256         0.381739 -1.597286 -1.375566  \n",
       "3  -0.580295   1.738256         0.381739 -1.597286 -1.230971  \n",
       "4  -0.580295   1.738256         0.381739 -1.597286 -1.086377  "
      ]
     },
     "execution_count": 8,
     "metadata": {},
     "output_type": "execute_result"
    }
   ],
   "source": [
    "dataset.head()"
   ]
  },
  {
   "cell_type": "code",
   "execution_count": 9,
   "id": "2fcb4486",
   "metadata": {},
   "outputs": [],
   "source": [
    "dataset.to_csv(features_path, index=False)"
   ]
  },
  {
   "cell_type": "code",
   "execution_count": null,
   "id": "17f6e689",
   "metadata": {},
   "outputs": [],
   "source": []
  }
 ],
 "metadata": {
  "kernelspec": {
   "display_name": "fromthetensor (3.12.7)",
   "language": "python",
   "name": "python3"
  },
  "language_info": {
   "codemirror_mode": {
    "name": "ipython",
    "version": 3
   },
   "file_extension": ".py",
   "mimetype": "text/x-python",
   "name": "python",
   "nbconvert_exporter": "python",
   "pygments_lexer": "ipython3",
   "version": "3.12.7"
  }
 },
 "nbformat": 4,
 "nbformat_minor": 5
}
