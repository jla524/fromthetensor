{
 "cells": [
  {
   "cell_type": "code",
   "execution_count": 1,
   "id": "5dfa9d6b",
   "metadata": {},
   "outputs": [],
   "source": [
    "from pathlib import Path\n",
    "import pandas as pd\n",
    "import matplotlib.pyplot as plt"
   ]
  },
  {
   "cell_type": "code",
   "execution_count": 2,
   "id": "f99a033a",
   "metadata": {},
   "outputs": [],
   "source": [
    "data_dir = Path(\".\").resolve(strict=True).parent.parent / \"data\"\n",
    "assert data_dir.is_dir()\n",
    "\n",
    "dataset_path = data_dir / \"london_merged.csv\"\n",
    "assert dataset_path.is_file()"
   ]
  },
  {
   "cell_type": "code",
   "execution_count": 3,
   "id": "5e04efa1",
   "metadata": {},
   "outputs": [],
   "source": [
    "dataset = pd.read_csv(dataset_path)\n",
    "assert not dataset.empty"
   ]
  },
  {
   "cell_type": "code",
   "execution_count": 4,
   "id": "2a8ea77c",
   "metadata": {},
   "outputs": [
    {
     "data": {
      "text/html": [
       "<div>\n",
       "<style scoped>\n",
       "    .dataframe tbody tr th:only-of-type {\n",
       "        vertical-align: middle;\n",
       "    }\n",
       "\n",
       "    .dataframe tbody tr th {\n",
       "        vertical-align: top;\n",
       "    }\n",
       "\n",
       "    .dataframe thead th {\n",
       "        text-align: right;\n",
       "    }\n",
       "</style>\n",
       "<table border=\"1\" class=\"dataframe\">\n",
       "  <thead>\n",
       "    <tr style=\"text-align: right;\">\n",
       "      <th></th>\n",
       "      <th>timestamp</th>\n",
       "      <th>cnt</th>\n",
       "      <th>t1</th>\n",
       "      <th>t2</th>\n",
       "      <th>hum</th>\n",
       "      <th>wind_speed</th>\n",
       "      <th>weather_code</th>\n",
       "      <th>is_holiday</th>\n",
       "      <th>is_weekend</th>\n",
       "      <th>season</th>\n",
       "    </tr>\n",
       "  </thead>\n",
       "  <tbody>\n",
       "    <tr>\n",
       "      <th>0</th>\n",
       "      <td>2015-01-04 00:00:00</td>\n",
       "      <td>182</td>\n",
       "      <td>3.0</td>\n",
       "      <td>2.0</td>\n",
       "      <td>93.0</td>\n",
       "      <td>6.0</td>\n",
       "      <td>3.0</td>\n",
       "      <td>0.0</td>\n",
       "      <td>1.0</td>\n",
       "      <td>3.0</td>\n",
       "    </tr>\n",
       "    <tr>\n",
       "      <th>1</th>\n",
       "      <td>2015-01-04 01:00:00</td>\n",
       "      <td>138</td>\n",
       "      <td>3.0</td>\n",
       "      <td>2.5</td>\n",
       "      <td>93.0</td>\n",
       "      <td>5.0</td>\n",
       "      <td>1.0</td>\n",
       "      <td>0.0</td>\n",
       "      <td>1.0</td>\n",
       "      <td>3.0</td>\n",
       "    </tr>\n",
       "    <tr>\n",
       "      <th>2</th>\n",
       "      <td>2015-01-04 02:00:00</td>\n",
       "      <td>134</td>\n",
       "      <td>2.5</td>\n",
       "      <td>2.5</td>\n",
       "      <td>96.5</td>\n",
       "      <td>0.0</td>\n",
       "      <td>1.0</td>\n",
       "      <td>0.0</td>\n",
       "      <td>1.0</td>\n",
       "      <td>3.0</td>\n",
       "    </tr>\n",
       "    <tr>\n",
       "      <th>3</th>\n",
       "      <td>2015-01-04 03:00:00</td>\n",
       "      <td>72</td>\n",
       "      <td>2.0</td>\n",
       "      <td>2.0</td>\n",
       "      <td>100.0</td>\n",
       "      <td>0.0</td>\n",
       "      <td>1.0</td>\n",
       "      <td>0.0</td>\n",
       "      <td>1.0</td>\n",
       "      <td>3.0</td>\n",
       "    </tr>\n",
       "    <tr>\n",
       "      <th>4</th>\n",
       "      <td>2015-01-04 04:00:00</td>\n",
       "      <td>47</td>\n",
       "      <td>2.0</td>\n",
       "      <td>0.0</td>\n",
       "      <td>93.0</td>\n",
       "      <td>6.5</td>\n",
       "      <td>1.0</td>\n",
       "      <td>0.0</td>\n",
       "      <td>1.0</td>\n",
       "      <td>3.0</td>\n",
       "    </tr>\n",
       "  </tbody>\n",
       "</table>\n",
       "</div>"
      ],
      "text/plain": [
       "             timestamp  cnt   t1   t2    hum  wind_speed  weather_code  \\\n",
       "0  2015-01-04 00:00:00  182  3.0  2.0   93.0         6.0           3.0   \n",
       "1  2015-01-04 01:00:00  138  3.0  2.5   93.0         5.0           1.0   \n",
       "2  2015-01-04 02:00:00  134  2.5  2.5   96.5         0.0           1.0   \n",
       "3  2015-01-04 03:00:00   72  2.0  2.0  100.0         0.0           1.0   \n",
       "4  2015-01-04 04:00:00   47  2.0  0.0   93.0         6.5           1.0   \n",
       "\n",
       "   is_holiday  is_weekend  season  \n",
       "0         0.0         1.0     3.0  \n",
       "1         0.0         1.0     3.0  \n",
       "2         0.0         1.0     3.0  \n",
       "3         0.0         1.0     3.0  \n",
       "4         0.0         1.0     3.0  "
      ]
     },
     "execution_count": 4,
     "metadata": {},
     "output_type": "execute_result"
    }
   ],
   "source": [
    "dataset.head()"
   ]
  },
  {
   "cell_type": "code",
   "execution_count": 5,
   "id": "f629d507",
   "metadata": {},
   "outputs": [
    {
     "data": {
      "text/plain": [
       "timestamp        object\n",
       "cnt               int64\n",
       "t1              float64\n",
       "t2              float64\n",
       "hum             float64\n",
       "wind_speed      float64\n",
       "weather_code    float64\n",
       "is_holiday      float64\n",
       "is_weekend      float64\n",
       "season          float64\n",
       "dtype: object"
      ]
     },
     "execution_count": 5,
     "metadata": {},
     "output_type": "execute_result"
    }
   ],
   "source": [
    "dataset.dtypes"
   ]
  },
  {
   "cell_type": "code",
   "execution_count": 6,
   "id": "720e385a",
   "metadata": {},
   "outputs": [
    {
     "data": {
      "text/plain": [
       "(17414, 10)"
      ]
     },
     "execution_count": 6,
     "metadata": {},
     "output_type": "execute_result"
    }
   ],
   "source": [
    "dataset.shape"
   ]
  },
  {
   "cell_type": "code",
   "execution_count": null,
   "id": "9a5655d9",
   "metadata": {},
   "outputs": [
    {
     "data": {
      "image/png": "[encoded data removed]",
      "text/plain": [
       "<Figure size 1000x400 with 1 Axes>"
      ]
     },
     "metadata": {},
     "output_type": "display_data"
    }
   ],
   "source": [
    "# check for outliers (do not remove)\n",
    "fig = plt.figure(figsize=(10, 4))\n",
    "plt.boxplot(dataset[\"cnt\"], vert=False)\n",
    "plt.title(\"distribution of cnt\")\n",
    "plt.show()"
   ]
  },
  {
   "cell_type": "code",
   "execution_count": 8,
   "id": "e857c752",
   "metadata": {},
   "outputs": [],
   "source": [
    "# convert season to multiple binary features\n",
    "dataset[\"is_spring\"] = dataset[\"season\"] == 0\n",
    "dataset[\"is_summer\"] = dataset[\"season\"] == 1\n",
    "dataset[\"is_fall\"] = dataset[\"season\"] == 2\n",
    "dataset[\"is_winter\"] = dataset[\"season\"] == 3\n",
    "dataset.drop(columns=[\"season\"], inplace=True)"
   ]
  },
  {
   "cell_type": "code",
   "execution_count": 9,
   "id": "31db7692",
   "metadata": {},
   "outputs": [],
   "source": [
    "# convert weather_code to a simple binary feature\n",
    "dataset[\"is_good_weather\"] = dataset[\"weather_code\"] <= 4  # true if clear to cloudy\n",
    "dataset.drop(columns=[\"weather_code\"], inplace=True)"
   ]
  },
  {
   "cell_type": "code",
   "execution_count": 10,
   "id": "e951ea24",
   "metadata": {},
   "outputs": [],
   "source": [
    "# extract date features from timestamp\n",
    "dataset[\"year\"] = pd.to_datetime(dataset[\"timestamp\"]).dt.year\n",
    "dataset[\"month\"] = pd.to_datetime(dataset[\"timestamp\"]).dt.month\n",
    "dataset[\"day\"] = pd.to_datetime(dataset[\"timestamp\"]).dt.day\n",
    "dataset[\"hour\"] = pd.to_datetime(dataset[\"timestamp\"]).dt.hour\n",
    "dataset.drop(columns=[\"timestamp\"], inplace=True)"
   ]
  },
  {
   "cell_type": "code",
   "execution_count": 11,
   "id": "a8f326e9",
   "metadata": {},
   "outputs": [
    {
     "data": {
      "text/plain": [
       "cnt                1.000000\n",
       "t1                 0.388798\n",
       "t2                 0.369035\n",
       "hum               -0.462901\n",
       "wind_speed         0.116295\n",
       "is_holiday        -0.051698\n",
       "is_weekend        -0.096499\n",
       "is_spring         -0.021024\n",
       "is_summer          0.171869\n",
       "is_fall            0.018929\n",
       "is_winter         -0.170381\n",
       "is_good_weather    0.156022\n",
       "year               0.010046\n",
       "month              0.063757\n",
       "day               -0.017887\n",
       "hour               0.324423\n",
       "Name: cnt, dtype: float64"
      ]
     },
     "execution_count": 11,
     "metadata": {},
     "output_type": "execute_result"
    }
   ],
   "source": [
    "# check how each feature is correlated with the target \"cnt\"\n",
    "dataset.corr()[\"cnt\"]"
   ]
  },
  {
   "cell_type": "code",
   "execution_count": 12,
   "id": "15058604",
   "metadata": {},
   "outputs": [
    {
     "data": {
      "text/plain": [
       "cnt                1.000000\n",
       "t1                 0.388798\n",
       "t2                 0.369035\n",
       "hum               -0.462901\n",
       "wind_speed         0.116295\n",
       "is_holiday        -0.051698\n",
       "is_weekend        -0.096499\n",
       "is_summer          0.171869\n",
       "is_winter         -0.170381\n",
       "is_good_weather    0.156022\n",
       "month              0.063757\n",
       "hour               0.324423\n",
       "Name: cnt, dtype: float64"
      ]
     },
     "execution_count": 12,
     "metadata": {},
     "output_type": "execute_result"
    }
   ],
   "source": [
    "# keep the ones where the absolute correlation score is more than 0.05\n",
    "dataset.corr()[\"cnt\"][dataset.corr()[\"cnt\"].abs() > 0.05]"
   ]
  },
  {
   "cell_type": "code",
   "execution_count": null,
   "id": "0bd9d14f",
   "metadata": {},
   "outputs": [],
   "source": []
  }
 ],
 "metadata": {
  "kernelspec": {
   "display_name": "fromthetensor (3.12.7)",
   "language": "python",
   "name": "python3"
  },
  "language_info": {
   "codemirror_mode": {
    "name": "ipython",
    "version": 3
   },
   "file_extension": ".py",
   "mimetype": "text/x-python",
   "name": "python",
   "nbconvert_exporter": "python",
   "pygments_lexer": "ipython3",
   "version": "3.12.7"
  }
 },
 "nbformat": 4,
 "nbformat_minor": 5
}
